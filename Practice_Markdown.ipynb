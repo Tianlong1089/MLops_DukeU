{
  "cells": [
    {
      "cell_type": "markdown",
      "metadata": {
        "id": "view-in-github",
        "colab_type": "text"
      },
      "source": [
        "<a href=\"https://colab.research.google.com/github/Tianlong1089/MLops_DukeU/blob/main/Practice_Markdown.ipynb\" target=\"_parent\"><img src=\"https://colab.research.google.com/assets/colab-badge.svg\" alt=\"Open In Colab\"/></a>"
      ]
    },
    {
      "cell_type": "markdown",
      "metadata": {
        "id": "AVAPxwxf0QTt"
      },
      "source": [
        "## Practice Markdown"
      ]
    },
    {
      "cell_type": "markdown",
      "metadata": {
        "id": "7BhIGnfm0QTy"
      },
      "source": [
        "This notebook lets you experiment with producing repeatable technical documentation.  Use this notebook to do the following actions:\n",
        "\n",
        "* Create a code cell and print a Python Hello World statement:  `print(\"hello world\")`\n",
        "* Create a Markdown Cell and add a Title using `#` and then a statement using plain text.  You can looks at the source code for this cell to get an idea of how to use Markdown.\n",
        "* Take some ideas from the [Master Markdown Github Guide](https://guides.github.com/features/mastering-markdown/) and implement them here.\n",
        "* Download this notebook as a `.ipynb` file and check into a Github Project.  You can [see an example here](https://github.com/noahgift/duke-coursera-ccf-lab1/blob/main/Practice-Markdown.ipynb).\n",
        "* Open your notebook in Google Colab and save it into the same Github Project.  You can [see an example here](https://github.com/noahgift/duke-coursera-ccf-lab1/blob/main/Practice_Markdown_with_colab.ipynb).\n"
      ]
    },
    {
      "cell_type": "code",
      "execution_count": null,
      "metadata": {
        "id": "lfeVnhps0QTz"
      },
      "outputs": [],
      "source": [
        "def example():\n",
        "    return print(\"hello world\")"
      ]
    },
    {
      "cell_type": "code",
      "execution_count": null,
      "metadata": {
        "id": "b1n_OwJX0QT1",
        "outputId": "3f6dd83f-1439-4c3c-9248-826d13f66dd5"
      },
      "outputs": [
        {
          "name": "stdout",
          "output_type": "stream",
          "text": [
            "hello world\n"
          ]
        }
      ],
      "source": [
        "example()"
      ]
    },
    {
      "cell_type": "markdown",
      "metadata": {
        "id": "ToGGnQvS0QT4"
      },
      "source": [
        "# New Title \n",
        "\n",
        "### Some uses of Markdown\n",
        "<sup>This is a superscript text</sup> **This is new statement using plain text.**\n",
        "<sub>This is a subscript text</sub>\n",
        "\n",
        "> Text that is a quote\n",
        "\n",
        "\n",
        "### And this is using code region\n",
        "```\n",
        "git status\n",
        "git add\n",
        "git commit\n",
        "```\n",
        "\n",
        "### Adding color\n",
        "The background color should be `#ffffff` for light mode and `#0d1117` for dark mode.\n",
        "\n",
        "### Adding Links \n",
        "This site was built using [GitHub Pages](https://pages.github.com/).\n",
        "\n",
        "### Adding Images\n",
        "\n",
        "![This is an image](https://myoctocat.com/assets/images/base-octocat.svg)\n",
        "\n",
        "\n",
        "### Adding to do list\n",
        "\n",
        "- [x] #739\n",
        "- [ ] https://github.com/octo-org/octo-repo/issues/740\n",
        "- [x] Add delight to the experience when all tasks are complete :tada:\n",
        "\n"
      ]
    }
  ],
  "metadata": {
    "kernelspec": {
      "display_name": "Python 3",
      "language": "python",
      "name": "python3"
    },
    "language_info": {
      "codemirror_mode": {
        "name": "ipython",
        "version": 3
      },
      "file_extension": ".py",
      "mimetype": "text/x-python",
      "name": "python",
      "nbconvert_exporter": "python",
      "pygments_lexer": "ipython3",
      "version": "3.7.6"
    },
    "colab": {
      "provenance": [],
      "include_colab_link": true
    }
  },
  "nbformat": 4,
  "nbformat_minor": 0
}